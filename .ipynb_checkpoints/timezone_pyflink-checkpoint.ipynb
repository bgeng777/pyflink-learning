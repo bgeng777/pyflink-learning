{
 "cells": [
  {
   "cell_type": "code",
   "execution_count": 2,
   "id": "9664a21c-a543-4d94-913f-32ad4a9d1e27",
   "metadata": {},
   "outputs": [],
   "source": [
    "from pyflink.common.types import Row\n",
    "from pyflink.datastream import StreamExecutionEnvironment\n",
    "from pyflink.common import Types, WatermarkStrategy, Configuration\n",
    "from pyflink.table import EnvironmentSettings, TableEnvironment\n",
    "from pyflink.table import DataTypes, StreamTableEnvironment, Schema\n",
    "from datetime import datetime\n",
    "import pytz"
   ]
  },
  {
   "cell_type": "code",
   "execution_count": 3,
   "id": "6dbe0b9d-9e34-4a21-a65b-e43e0b230f67",
   "metadata": {},
   "outputs": [],
   "source": [
    "\n",
    "config = Configuration()\n",
    "config.set_string(\"python.client.executable\", \"/usr/local/Caskroom/miniconda/base/envs/myenv/bin/python\")\n",
    "config.set_string(\"python.executable\", \"/usr/local/Caskroom/miniconda/base/envs/myenv/bin/python\")\n",
    "env = StreamExecutionEnvironment.get_execution_environment(config)\n"
   ]
  },
  {
   "cell_type": "code",
   "execution_count": 8,
   "id": "a274de27-6932-4453-a8e8-cb5aad2f1626",
   "metadata": {},
   "outputs": [
    {
     "name": "stdout",
     "output_type": "stream",
     "text": [
      "+----+--------------------------------+-------------------------+\n",
      "| op |                           name |               timestamp |\n",
      "+----+--------------------------------+-------------------------+\n",
      "| +I |                       elementA | 2024-04-12 16:35:00.000 |\n",
      "| +I |                       elementB | 2024-04-12 17:35:00.000 |\n",
      "+----+--------------------------------+-------------------------+\n",
      "2 rows in set\n"
     ]
    }
   ],
   "source": [
    "t_env = StreamTableEnvironment.create(env)\n",
    "t_env.get_config().set(\"parallelism.default\", \"1\")\n",
    "t_env.get_config().set_local_timezone(\"UTC\")\n",
    "\n",
    "input_table = t_env.from_elements(\n",
    "    [\n",
    "        (\n",
    "            \"elementA\",\n",
    "            datetime(year=2024, month=4, day=12, hour=8, minute=35, tzinfo=pytz.utc),\n",
    "        ),\n",
    "        (\n",
    "            \"elementB\",\n",
    "            datetime(year=2024, month=4, day=12, hour=9, minute=35, tzinfo=pytz.utc),\n",
    "        ),\n",
    "    ],\n",
    "    DataTypes.ROW(\n",
    "        [\n",
    "            DataTypes.FIELD(\"name\", DataTypes.STRING()),\n",
    "            DataTypes.FIELD(\"timestamp\", DataTypes.TIMESTAMP(3)),\n",
    "        ]\n",
    "    ),\n",
    ")\n",
    "input_table.execute().print()"
   ]
  },
  {
   "cell_type": "code",
   "execution_count": 9,
   "id": "c8719929-284c-4471-bd5c-57423c82b07e",
   "metadata": {},
   "outputs": [
    {
     "name": "stdout",
     "output_type": "stream",
     "text": [
      "+----+--------------------------------+-------------------------+\n",
      "| op |                           name |               timestamp |\n",
      "+----+--------------------------------+-------------------------+\n",
      "| +I |                       elementA | 2024-04-12 16:35:00.000 |\n",
      "| +I |                       elementB | 2024-04-12 17:35:00.000 |\n",
      "+----+--------------------------------+-------------------------+\n",
      "2 rows in set\n"
     ]
    }
   ],
   "source": [
    "t_env = StreamTableEnvironment.create(env)\n",
    "t_env.get_config().set_local_timezone(\"GMT-02:00\")\n",
    "\n",
    "input_table = t_env.from_elements(\n",
    "    [\n",
    "        (\n",
    "            \"elementA\",\n",
    "            datetime(year=2024, month=4, day=12, hour=8, minute=35, tzinfo=pytz.utc),\n",
    "        ),\n",
    "        (\n",
    "            \"elementB\",\n",
    "            datetime(year=2024, month=4, day=12, hour=9, minute=35, tzinfo=pytz.utc),\n",
    "        ),\n",
    "    ],\n",
    "    DataTypes.ROW(\n",
    "        [\n",
    "            DataTypes.FIELD(\"name\", DataTypes.STRING()),\n",
    "            DataTypes.FIELD(\"timestamp\", DataTypes.TIMESTAMP(3)),\n",
    "        ]\n",
    "    ),\n",
    ")\n",
    "input_table.execute().print()"
   ]
  },
  {
   "cell_type": "code",
   "execution_count": 10,
   "id": "9f834f96-ba07-4cfd-9669-0b90d44bcb3b",
   "metadata": {},
   "outputs": [
    {
     "name": "stdout",
     "output_type": "stream",
     "text": [
      "+----+--------------------------------+-------------------------+\n",
      "| op |                           name |               timestamp |\n",
      "+----+--------------------------------+-------------------------+\n",
      "| +I |                       elementA | 2024-04-12 14:35:00.000 |\n",
      "| +I |                       elementB | 2024-04-12 15:35:00.000 |\n",
      "+----+--------------------------------+-------------------------+\n",
      "2 rows in set\n"
     ]
    }
   ],
   "source": [
    "t_env = StreamTableEnvironment.create(env)\n",
    "t_env.get_config().set_local_timezone(\"GMT-02:00\")\n",
    "\n",
    "input_table = t_env.from_elements(\n",
    "    [\n",
    "        (\n",
    "            \"elementA\",\n",
    "            datetime(year=2024, month=4, day=12, hour=8, minute=35, tzinfo=pytz.utc),\n",
    "        ),\n",
    "        (\n",
    "            \"elementB\",\n",
    "            datetime(year=2024, month=4, day=12, hour=9, minute=35, tzinfo=pytz.utc),\n",
    "        ),\n",
    "    ],\n",
    "    DataTypes.ROW(\n",
    "        [\n",
    "            DataTypes.FIELD(\"name\", DataTypes.STRING()),\n",
    "            DataTypes.FIELD(\"timestamp\", DataTypes.TIMESTAMP_LTZ(3)),\n",
    "        ]\n",
    "    ),\n",
    ")\n",
    "input_table.execute().print()"
   ]
  },
  {
   "cell_type": "code",
   "execution_count": 11,
   "id": "9a42910f-5747-45bf-8b68-141f5be9cad5",
   "metadata": {},
   "outputs": [
    {
     "name": "stdout",
     "output_type": "stream",
     "text": [
      "+----+--------------------------------+-------------------------+\n",
      "| op |                           name |               timestamp |\n",
      "+----+--------------------------------+-------------------------+\n",
      "| +I |                       elementA | 2024-04-12 16:35:00.000 |\n",
      "| +I |                       elementB | 2024-04-12 17:35:00.000 |\n",
      "+----+--------------------------------+-------------------------+\n",
      "2 rows in set\n"
     ]
    }
   ],
   "source": [
    "t_env = StreamTableEnvironment.create(env)\n",
    "t_env.get_config().set_local_timezone(\"GMT-00:00\")\n",
    "\n",
    "input_table = t_env.from_elements(\n",
    "    [\n",
    "        (\n",
    "            \"elementA\",\n",
    "            datetime(year=2024, month=4, day=12, hour=8, minute=35, tzinfo=pytz.utc),\n",
    "        ),\n",
    "        (\n",
    "            \"elementB\",\n",
    "            datetime(year=2024, month=4, day=12, hour=9, minute=35, tzinfo=pytz.utc),\n",
    "        ),\n",
    "    ],\n",
    "    DataTypes.ROW(\n",
    "        [\n",
    "            DataTypes.FIELD(\"name\", DataTypes.STRING()),\n",
    "            DataTypes.FIELD(\"timestamp\", DataTypes.TIMESTAMP_LTZ(3)),\n",
    "        ]\n",
    "    ),\n",
    ")\n",
    "input_table.execute().print()"
   ]
  },
  {
   "cell_type": "code",
   "execution_count": 12,
   "id": "64921f03-f142-47be-8b54-c696636ebb17",
   "metadata": {},
   "outputs": [],
   "source": [
    "%config Completer.use_jedi = False\n"
   ]
  },
  {
   "cell_type": "code",
   "execution_count": 13,
   "id": "b290b829-9d5b-47a9-8bd8-3f786729f33e",
   "metadata": {},
   "outputs": [
    {
     "name": "stdout",
     "output_type": "stream",
     "text": [
      "+----+--------------------------------+-------------------------+\n",
      "| op |                           name |               timestamp |\n",
      "+----+--------------------------------+-------------------------+\n",
      "| +I |                       elementA | 2024-04-12 08:35:00.000 |\n",
      "| +I |                       elementB | 2024-04-12 09:35:00.000 |\n",
      "+----+--------------------------------+-------------------------+\n",
      "2 rows in set\n"
     ]
    }
   ],
   "source": [
    "t_env = StreamTableEnvironment.create(env)\n",
    "t_env.get_config().set_local_timezone(\"GMT-08:00\")\n",
    "\n",
    "input_table = t_env.from_elements(\n",
    "    [\n",
    "        (\n",
    "            \"elementA\",\n",
    "            datetime(year=2024, month=4, day=12, hour=8, minute=35, tzinfo=pytz.utc),\n",
    "        ),\n",
    "        (\n",
    "            \"elementB\",\n",
    "            datetime(year=2024, month=4, day=12, hour=9, minute=35, tzinfo=pytz.utc),\n",
    "        ),\n",
    "    ],\n",
    "    DataTypes.ROW(\n",
    "        [\n",
    "            DataTypes.FIELD(\"name\", DataTypes.STRING()),\n",
    "            DataTypes.FIELD(\"timestamp\", DataTypes.TIMESTAMP_LTZ(3)),\n",
    "        ]\n",
    "    ),\n",
    ")\n",
    "input_table.execute().print()"
   ]
  },
  {
   "cell_type": "code",
   "execution_count": 15,
   "id": "47c1823a-01e0-434b-8bd8-af29c1158ab1",
   "metadata": {},
   "outputs": [
    {
     "name": "stdout",
     "output_type": "stream",
     "text": [
      "2024-04-12 09:35:00+00:00\n"
     ]
    }
   ],
   "source": [
    "print(datetime(year=2024, month=4, day=12, hour=9, minute=35, tzinfo=pytz.utc))"
   ]
  },
  {
   "cell_type": "code",
   "execution_count": 16,
   "id": "1f3dfaf3-4e8c-4571-b439-1f0f051ae9bf",
   "metadata": {},
   "outputs": [
    {
     "name": "stdout",
     "output_type": "stream",
     "text": [
      "2024-04-12 09:35:00\n"
     ]
    }
   ],
   "source": [
    "print(datetime(year=2024, month=4, day=12, hour=9, minute=35))"
   ]
  },
  {
   "cell_type": "code",
   "execution_count": 21,
   "id": "c76d5129-8035-4524-8009-e01266c018fe",
   "metadata": {},
   "outputs": [
    {
     "name": "stdout",
     "output_type": "stream",
     "text": [
      "+----+--------------------------------+-------------------------+\n",
      "| op |                           name |               timestamp |\n",
      "+----+--------------------------------+-------------------------+\n",
      "| +I |                       elementA | 2024-04-12 08:35:00.000 |\n",
      "| +I |                       elementB | 2024-04-12 09:35:00.000 |\n",
      "+----+--------------------------------+-------------------------+\n",
      "2 rows in set\n"
     ]
    }
   ],
   "source": [
    "t_env = StreamTableEnvironment.create(env)\n",
    "t_env.get_config().set_local_timezone(\"GMT-08:00\")\n",
    "\n",
    "input_table = t_env.from_elements(\n",
    "    [\n",
    "        (\n",
    "            \"elementA\",\n",
    "            datetime(year=2024, month=4, day=12, hour=8, minute=35),\n",
    "        ),\n",
    "        (\n",
    "            \"elementB\",\n",
    "            datetime(year=2024, month=4, day=12, hour=9, minute=35),\n",
    "        ),\n",
    "    ],\n",
    "    DataTypes.ROW(\n",
    "        [\n",
    "            DataTypes.FIELD(\"name\", DataTypes.STRING()),\n",
    "            DataTypes.FIELD(\"timestamp\", DataTypes.TIMESTAMP(3)),\n",
    "        ]\n",
    "    ),\n",
    ")\n",
    "input_table.execute().print()"
   ]
  },
  {
   "cell_type": "code",
   "execution_count": 22,
   "id": "f10b9591-b0ac-43f4-98e2-ebd803ebba14",
   "metadata": {},
   "outputs": [
    {
     "name": "stdout",
     "output_type": "stream",
     "text": [
      "+----+--------------------------------+-------------------------+\n",
      "| op |                           name |               timestamp |\n",
      "+----+--------------------------------+-------------------------+\n",
      "| +I |                       elementA | 2024-04-12 00:35:00.000 |\n",
      "| +I |                       elementB | 2024-04-12 01:35:00.000 |\n",
      "+----+--------------------------------+-------------------------+\n",
      "2 rows in set\n"
     ]
    }
   ],
   "source": [
    "t_env = StreamTableEnvironment.create(env)\n",
    "t_env.get_config().set_local_timezone(\"GMT-08:00\")\n",
    "\n",
    "input_table = t_env.from_elements(\n",
    "    [\n",
    "        (\n",
    "            \"elementA\",\n",
    "            datetime(year=2024, month=4, day=12, hour=8, minute=35),\n",
    "        ),\n",
    "        (\n",
    "            \"elementB\",\n",
    "            datetime(year=2024, month=4, day=12, hour=9, minute=35),\n",
    "        ),\n",
    "    ],\n",
    "    DataTypes.ROW(\n",
    "        [\n",
    "            DataTypes.FIELD(\"name\", DataTypes.STRING()),\n",
    "            DataTypes.FIELD(\"timestamp\", DataTypes.TIMESTAMP_LTZ(3)),\n",
    "        ]\n",
    "    ),\n",
    ")\n",
    "input_table.execute().print()"
   ]
  },
  {
   "cell_type": "code",
   "execution_count": 23,
   "id": "eda05663-28a3-4184-8103-5c287eacab68",
   "metadata": {},
   "outputs": [
    {
     "name": "stdout",
     "output_type": "stream",
     "text": [
      "+----+--------------------------------+-------------------------+\n",
      "| op |                           name |               timestamp |\n",
      "+----+--------------------------------+-------------------------+\n",
      "| +I |                       elementA | 2024-04-12 08:35:00.000 |\n",
      "| +I |                       elementB | 2024-04-12 09:35:00.000 |\n",
      "+----+--------------------------------+-------------------------+\n",
      "2 rows in set\n"
     ]
    }
   ],
   "source": [
    "t_env = StreamTableEnvironment.create(env)\n",
    "t_env.get_config().set_local_timezone(\"GMT-08:00\")\n",
    "\n",
    "input_table = t_env.from_elements(\n",
    "    [\n",
    "        (\n",
    "            \"elementA\",\n",
    "            datetime(year=2024, month=4, day=12, hour=8, minute=35, tzinfo=pytz.utc),\n",
    "        ),\n",
    "        (\n",
    "            \"elementB\",\n",
    "            datetime(year=2024, month=4, day=12, hour=9, minute=35, tzinfo=pytz.utc),\n",
    "        ),\n",
    "    ],\n",
    "    DataTypes.ROW(\n",
    "        [\n",
    "            DataTypes.FIELD(\"name\", DataTypes.STRING()),\n",
    "            DataTypes.FIELD(\"timestamp\", DataTypes.TIMESTAMP_LTZ(3)),\n",
    "        ]\n",
    "    ),\n",
    ")\n",
    "input_table.execute().print()"
   ]
  },
  {
   "cell_type": "code",
   "execution_count": 25,
   "id": "0eea4500-fd7b-4e56-a5c5-e4e930eccd71",
   "metadata": {},
   "outputs": [
    {
     "name": "stdout",
     "output_type": "stream",
     "text": [
      "1712910900.0\n"
     ]
    }
   ],
   "source": [
    "date=datetime(year=2024, month=4, day=12, hour=8, minute=35, tzinfo=pytz.utc)\n",
    "timestamp = date.timestamp()\n",
    "print(timestamp)"
   ]
  },
  {
   "cell_type": "code",
   "execution_count": 26,
   "id": "74795abf-c92d-488c-88dc-e0a4d84abaf0",
   "metadata": {},
   "outputs": [
    {
     "name": "stdout",
     "output_type": "stream",
     "text": [
      "1712882100.0\n"
     ]
    }
   ],
   "source": [
    "date=datetime(year=2024, month=4, day=12, hour=8, minute=35)\n",
    "timestamp = date.timestamp()\n",
    "print(timestamp)"
   ]
  },
  {
   "cell_type": "code",
   "execution_count": 6,
   "id": "766a4443-a729-4e63-93c0-42cb25ff6572",
   "metadata": {},
   "outputs": [
    {
     "name": "stdout",
     "output_type": "stream",
     "text": [
      "time.struct_time(tm_year=2024, tm_mon=4, tm_mday=12, tm_hour=8, tm_min=35, tm_sec=0, tm_wday=4, tm_yday=103, tm_isdst=0)\n"
     ]
    }
   ],
   "source": [
    "date=datetime(year=2024, month=4, day=12, hour=8, minute=35, tzinfo=pytz.utc)\n",
    "timestamp = date.utctimetuple()\n",
    "print(timestamp)"
   ]
  },
  {
   "cell_type": "code",
   "execution_count": 7,
   "id": "9f622965-37ee-4582-967c-65f11170be0a",
   "metadata": {},
   "outputs": [
    {
     "name": "stdout",
     "output_type": "stream",
     "text": [
      "time.struct_time(tm_year=2024, tm_mon=4, tm_mday=12, tm_hour=8, tm_min=35, tm_sec=0, tm_wday=4, tm_yday=103, tm_isdst=0)\n"
     ]
    }
   ],
   "source": [
    "date=datetime(year=2024, month=4, day=12, hour=8, minute=35)\n",
    "timestamp = date.utctimetuple()\n",
    "print(timestamp)"
   ]
  },
  {
   "cell_type": "code",
   "execution_count": 8,
   "id": "042efb6c-eb61-4f52-9ece-eb14e0c092c8",
   "metadata": {},
   "outputs": [],
   "source": [
    "import calendar\n",
    "import time"
   ]
  },
  {
   "cell_type": "code",
   "execution_count": 12,
   "id": "c1c9b445-77eb-4f35-8743-9304eb2b8c7b",
   "metadata": {},
   "outputs": [
    {
     "name": "stdout",
     "output_type": "stream",
     "text": [
      "time.struct_time(tm_year=2024, tm_mon=4, tm_mday=12, tm_hour=8, tm_min=35, tm_sec=0, tm_wday=4, tm_yday=103, tm_isdst=0)\n"
     ]
    },
    {
     "data": {
      "text/plain": [
       "1712910900"
      ]
     },
     "execution_count": 12,
     "metadata": {},
     "output_type": "execute_result"
    }
   ],
   "source": [
    "date=datetime(year=2024, month=4, day=12, hour=8, minute=35)\n",
    "timestamp = date.utctimetuple()\n",
    "print(timestamp)\n",
    "calendar.timegm(date.utctimetuple())"
   ]
  },
  {
   "cell_type": "code",
   "execution_count": 20,
   "id": "f1b731bc-7d5d-4aa9-93df-1ba0ecc8aa61",
   "metadata": {},
   "outputs": [
    {
     "name": "stdout",
     "output_type": "stream",
     "text": [
      "time.struct_time(tm_year=2024, tm_mon=4, tm_mday=12, tm_hour=0, tm_min=29, tm_sec=0, tm_wday=4, tm_yday=103, tm_isdst=0)\n",
      "1712881740\n",
      "1712910900\n"
     ]
    }
   ],
   "source": [
    "date=datetime(year=2024, month=4, day=12, hour=8, minute=35, tzinfo=pytz.timezone('Asia/Shanghai'))\n",
    "timestamp = date.utctimetuple()\n",
    "print(timestamp)\n",
    "print(calendar.timegm(date.utctimetuple()))\n",
    "print(calendar.timegm(date.timetuple()))"
   ]
  },
  {
   "cell_type": "code",
   "execution_count": 19,
   "id": "86973d69-2c8b-4e6d-8410-4f59f61dc2a6",
   "metadata": {},
   "outputs": [
    {
     "name": "stdout",
     "output_type": "stream",
     "text": [
      "time.struct_time(tm_year=2024, tm_mon=4, tm_mday=12, tm_hour=8, tm_min=35, tm_sec=0, tm_wday=4, tm_yday=103, tm_isdst=0)\n"
     ]
    },
    {
     "data": {
      "text/plain": [
       "1712939280"
      ]
     },
     "execution_count": 19,
     "metadata": {},
     "output_type": "execute_result"
    }
   ],
   "source": [
    "date=datetime(year=2024, month=4, day=12, hour=8, minute=35, tzinfo=pytz.timezone('America/Los_Angeles'))\n",
    "timestamp = date.timetuple()\n",
    "print(timestamp)\n",
    "calendar.timegm(date.utctimetuple())"
   ]
  },
  {
   "cell_type": "code",
   "execution_count": 21,
   "id": "8e9924c1-fcf1-4efa-917f-284fa7156a46",
   "metadata": {},
   "outputs": [
    {
     "name": "stdout",
     "output_type": "stream",
     "text": [
      "time.struct_time(tm_year=2024, tm_mon=4, tm_mday=12, tm_hour=8, tm_min=35, tm_sec=0, tm_wday=4, tm_yday=103, tm_isdst=0)\n"
     ]
    },
    {
     "data": {
      "text/plain": [
       "1712910900"
      ]
     },
     "execution_count": 21,
     "metadata": {},
     "output_type": "execute_result"
    }
   ],
   "source": [
    "date=datetime(year=2024, month=4, day=12, hour=8, minute=35, tzinfo=pytz.UTC)\n",
    "timestamp = date.timetuple()\n",
    "print(timestamp)\n",
    "calendar.timegm(date.utctimetuple())"
   ]
  },
  {
   "cell_type": "code",
   "execution_count": 34,
   "id": "58203bb8-c089-48fb-b27f-aa7fb43dd0ea",
   "metadata": {},
   "outputs": [
    {
     "name": "stdout",
     "output_type": "stream",
     "text": [
      "1712910900\n",
      "1712910900\n",
      "1712882100.0\n",
      "1712882100.0\n"
     ]
    }
   ],
   "source": [
    "date=datetime(year=2024, month=4, day=12, hour=8, minute=35)\n",
    "print(data.timetuple())\n",
    "print(calendar.timegm(date.timetuple()))\n",
    "print(calendar.timegm(date.utctimetuple()))\n",
    "print(time.mktime(date.timetuple()))\n",
    "print(time.mktime(date.utctimetuple()))"
   ]
  },
  {
   "cell_type": "code",
   "execution_count": 35,
   "id": "53acdbef-7600-4787-8054-f8b64518bb02",
   "metadata": {},
   "outputs": [
    {
     "name": "stdout",
     "output_type": "stream",
     "text": [
      "1712910900\n",
      "1712910900\n",
      "1712882100.0\n",
      "1712882100.0\n"
     ]
    }
   ],
   "source": [
    "date=datetime(year=2024, month=4, day=12, hour=8, minute=35, tzinfo=pytz.UTC)\n",
    "print(data.timetuple())\n",
    "print(calendar.timegm(date.timetuple()))\n",
    "print(calendar.timegm(date.utctimetuple()))\n",
    "print(time.mktime(date.timetuple()))\n",
    "print(time.mktime(date.utctimetuple()))"
   ]
  },
  {
   "cell_type": "code",
   "execution_count": 33,
   "id": "8d53e71f-cf04-490f-baa1-f6a384704912",
   "metadata": {},
   "outputs": [
    {
     "name": "stdout",
     "output_type": "stream",
     "text": [
      "1712910900\n",
      "1712881740\n",
      "1712882100.0\n",
      "1712852940.0\n"
     ]
    }
   ],
   "source": [
    "date=datetime(year=2024, month=4, day=12, hour=8, minute=35, tzinfo=pytz.timezone('Asia/Shanghai'))\n",
    "print(data.timetuple())\n",
    "print(calendar.timegm(date.timetuple()))\n",
    "print(calendar.timegm(date.utctimetuple()))\n",
    "print(time.mktime(date.timetuple()))\n",
    "print(time.mktime(date.utctimetuple()))"
   ]
  },
  {
   "cell_type": "code",
   "execution_count": null,
   "id": "83f83ffe-d010-4692-a019-02f9d498c359",
   "metadata": {},
   "outputs": [],
   "source": []
  }
 ],
 "metadata": {
  "kernelspec": {
   "display_name": "Python 3 (ipykernel)",
   "language": "python",
   "name": "python3"
  },
  "language_info": {
   "codemirror_mode": {
    "name": "ipython",
    "version": 3
   },
   "file_extension": ".py",
   "mimetype": "text/x-python",
   "name": "python",
   "nbconvert_exporter": "python",
   "pygments_lexer": "ipython3",
   "version": "3.10.14"
  }
 },
 "nbformat": 4,
 "nbformat_minor": 5
}
